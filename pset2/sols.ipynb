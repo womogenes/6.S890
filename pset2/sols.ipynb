{
 "cells": [
  {
   "cell_type": "code",
   "execution_count": 18,
   "id": "316ea2d1",
   "metadata": {},
   "outputs": [],
   "source": [
    "import numpy as np\n",
    "from pprint import pprint"
   ]
  },
  {
   "cell_type": "code",
   "execution_count": 26,
   "id": "0b25a7b9",
   "metadata": {},
   "outputs": [
    {
     "name": "stdout",
     "output_type": "stream",
     "text": [
      "===== NODES =====\n",
      "{'/': {'actions': ('r', 'p', 's'), 'player': '1', 'type': 'player'},\n",
      " '/P1:p/': {'actions': ('r', 'p', 's'), 'player': '2', 'type': 'player'},\n",
      " '/P1:p/P2:p/': {'payoffs': {'1': 0, '2': 0}, 'type': 'terminal'},\n",
      " '/P1:p/P2:r/': {'payoffs': {'1': 1, '2': -1}, 'type': 'terminal'},\n",
      " '/P1:p/P2:s/': {'payoffs': {'1': -2, '2': 2}, 'type': 'terminal'},\n",
      " '/P1:r/': {'actions': ('r', 'p', 's'), 'player': '2', 'type': 'player'},\n",
      " '/P1:r/P2:p/': {'payoffs': {'1': -1, '2': 1}, 'type': 'terminal'},\n",
      " '/P1:r/P2:r/': {'payoffs': {'1': 0, '2': 0}, 'type': 'terminal'},\n",
      " '/P1:r/P2:s/': {'payoffs': {'1': 1, '2': -1}, 'type': 'terminal'},\n",
      " '/P1:s/': {'actions': ('r', 'p', 's'), 'player': '2', 'type': 'player'},\n",
      " '/P1:s/P2:p/': {'payoffs': {'1': 2, '2': -2}, 'type': 'terminal'},\n",
      " '/P1:s/P2:r/': {'payoffs': {'1': -1, '2': 1}, 'type': 'terminal'},\n",
      " '/P1:s/P2:s/': {'payoffs': {'1': 0, '2': 0}, 'type': 'terminal'}}\n",
      "\n",
      "===== INFOSETS =====\n",
      "{'/': {'actions': ('r', 'p', 's'), 'nodes': ('/',), 'player': '1'},\n",
      " '/P1:?/': {'actions': ('r', 'p', 's'),\n",
      "            'nodes': ('/P1:r/', '/P1:p/', '/P1:s/'),\n",
      "            'player': '2'}}\n"
     ]
    }
   ],
   "source": [
    "# Parse the game tree\n",
    "def make_game_tree(src: str):\n",
    "    with open(src) as fin:\n",
    "        lines = fin.read().strip().split(\"\\n\")\n",
    "\n",
    "    nodes = {}\n",
    "    infosets = {}\n",
    "\n",
    "    for line in lines:\n",
    "        parts = line.split(\" \")\n",
    "        \n",
    "        if parts[0] == \"node\":\n",
    "            hist = parts[1]\n",
    "            node_type = parts[2]\n",
    "\n",
    "            if node_type == \"player\":\n",
    "                # Looks like \"/P1:r/ player 2 r p s\"\n",
    "                player = parts[3]\n",
    "                actions = parts[5:]\n",
    "                nodes[hist] = {\n",
    "                    \"type\": \"player\",\n",
    "                    \"player\": player,\n",
    "                    \"actions\": tuple(actions),\n",
    "                }\n",
    "\n",
    "            else:\n",
    "                assert node_type == \"terminal\"\n",
    "                # Looks like \"node /P1:r/P2:r/ terminal payoffs 1=0 2=0\"\n",
    "                payoffs = {}\n",
    "                for payoff in parts[4:]:\n",
    "                    p, v = payoff.split(\"=\")\n",
    "                    payoffs[p] = int(v)\n",
    "\n",
    "                nodes[hist] = {\n",
    "                    \"type\": \"terminal\",\n",
    "                    \"payoffs\": payoffs\n",
    "                }\n",
    "        \n",
    "        else:\n",
    "            assert parts[0] == \"infoset\"\n",
    "            # Looks like \"infoset /P1:?/ nodes /P1:r/ /P1:p/ /P1:s/\"\n",
    "            hist = parts[1]\n",
    "            info_nodes = parts[3:]\n",
    "\n",
    "            actions = None\n",
    "            player = None\n",
    "\n",
    "            for info_hist in info_nodes:\n",
    "                node = nodes[info_hist]\n",
    "                assert node[\"type\"] == \"player\"\n",
    "                \n",
    "                if actions is None:\n",
    "                    actions = node[\"actions\"]\n",
    "                else:\n",
    "                    # Must have same set of actions\n",
    "                    assert node[\"actions\"] == actions\n",
    "\n",
    "                if player is None:\n",
    "                    player = node[\"player\"]\n",
    "                else:\n",
    "                    assert node[\"player\"] == player\n",
    "\n",
    "                infosets[hist] = {\n",
    "                    \"player\": player,\n",
    "                    \"nodes\": tuple(info_nodes),\n",
    "                    \"actions\": actions,\n",
    "                }\n",
    "\n",
    "    return {\n",
    "        \"nodes\": nodes,\n",
    "        \"infosets\": infosets,\n",
    "    }\n",
    "\n",
    "game_tree = make_game_tree(\"./efgs/rpss.txt\")\n",
    "nodes = game_tree[\"nodes\"]\n",
    "infosets = game_tree[\"infosets\"]\n",
    "\n",
    "print(\"===== NODES =====\")\n",
    "pprint(nodes)\n",
    "print()\n",
    "print(\"===== INFOSETS =====\")\n",
    "pprint(infosets)"
   ]
  },
  {
   "cell_type": "code",
   "execution_count": 27,
   "id": "c8e000f7",
   "metadata": {},
   "outputs": [],
   "source": [
    "# Extract a tree-form decision process (TFDP) from the game tree\n",
    "# Set of decision nodes j in J_i of TFDP coincides with set of their infosets\n",
    "# Set of actions at J_i coincides with set of actions at any node in J_i\n",
    "# At each observation node k in K, player observes signal s in S_k\n",
    "\n",
    "# A pair (j, a) of (decision node, action) constitutes a \"non-empty sequence.\"\n",
    "# Sigma: set of sequences. Strategies real-valued vectors over Sigma."
   ]
  },
  {
   "cell_type": "code",
   "execution_count": null,
   "id": "c281241d",
   "metadata": {},
   "outputs": [
    {
     "name": "stdout",
     "output_type": "stream",
     "text": [
      "[('/', 'r'), ('/', 'p'), ('/', 's')]\n"
     ]
    }
   ],
   "source": [
    "# Generate a TFDP from the game tree\n",
    "def get_sequences(infosets: dict, player: str):\n",
    "    \"\"\"\n",
    "    Deterministically generate a list of decision node/action pairs (sequences)\n",
    "        given the game tree infosets\n",
    "    \"\"\"\n",
    "    seqs = []\n",
    "\n",
    "    for info_hist, info_node in sorted(infosets.items()):\n",
    "        if info_node[\"player\"] != player:\n",
    "            continue\n",
    "\n",
    "        for action in info_node[\"actions\"]:\n",
    "            seqs.append((info_hist, action))\n",
    "\n",
    "    return seqs\n",
    "\n",
    "print(get_sequences(infosets, \"1\"))"
   ]
  },
  {
   "cell_type": "code",
   "execution_count": null,
   "id": "37f07e14",
   "metadata": {},
   "outputs": [],
   "source": [
    "# How to represent a strategy?\n",
    "# For each (j, a), list a real number\n",
    "# Probabilities must add up"
   ]
  }
 ],
 "metadata": {
  "kernelspec": {
   "display_name": "Python 3",
   "language": "python",
   "name": "python3"
  },
  "language_info": {
   "codemirror_mode": {
    "name": "ipython",
    "version": 3
   },
   "file_extension": ".py",
   "mimetype": "text/x-python",
   "name": "python",
   "nbconvert_exporter": "python",
   "pygments_lexer": "ipython3",
   "version": "3.12.11"
  }
 },
 "nbformat": 4,
 "nbformat_minor": 5
}
